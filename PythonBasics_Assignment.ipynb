{
  "nbformat": 4,
  "nbformat_minor": 0,
  "metadata": {
    "colab": {
      "provenance": []
    },
    "kernelspec": {
      "name": "python3",
      "display_name": "Python 3"
    },
    "language_info": {
      "name": "python"
    }
  },
  "cells": [
    {
      "cell_type": "markdown",
      "source": [
        "## **Theory Questions**"
      ],
      "metadata": {
        "id": "JAVWES0TdwxK"
      }
    },
    {
      "cell_type": "markdown",
      "source": [
        "1. What is Python, and why is it popular?\n",
        "Ans: Python is a high-level, interpreted programming language known for its simplicity, readability, and versatility. It was developed by Guido van Rossum in 1991.\n",
        "It is popular because it is easy to read, versatile in nature and due to its cross platform compatibility."
      ],
      "metadata": {
        "id": "6xEOE51TWV_9"
      }
    },
    {
      "cell_type": "markdown",
      "source": [
        "2. What is an interpreter in Python?\n",
        "Ans: An interpreter is a program that reads and executes the code line by line rather than executing the entire block of code."
      ],
      "metadata": {
        "id": "ao62GL4VW-da"
      }
    },
    {
      "cell_type": "markdown",
      "source": [
        "3. What are pre-defined keywords in Python?\n",
        "Ans: The predefined keywords in python are if,else,try,except,import,etc."
      ],
      "metadata": {
        "id": "JINMsv6zXkVi"
      }
    },
    {
      "cell_type": "markdown",
      "source": [
        "4. Can keywords be used as variable names?\n",
        "Ans: No, keywords cannot be used as variable names in Python because they are reserved words with special meanings."
      ],
      "metadata": {
        "id": "WOpTPy_yYS8P"
      }
    },
    {
      "cell_type": "markdown",
      "source": [
        "5. What is mutability in Python?\n",
        "Ans: Mutability refers to whether an object value can be changed while execution."
      ],
      "metadata": {
        "id": "YaRhE9g-Ydn2"
      }
    },
    {
      "cell_type": "markdown",
      "source": [
        "6. Why are lists mutable, but tuples are immutable?\n",
        "Ans: Lists are mutable whereas tuples are immutable because lists can be dynamically changed during execution which makes them memory efficient whereas tuples cannot be changed while execution therefore making them less memory effficient."
      ],
      "metadata": {
        "id": "ndiGZSZpYyoE"
      }
    },
    {
      "cell_type": "markdown",
      "source": [
        "7. What is the difference between “==” and “is” operators in Python?\n",
        "Ans: The \"==\" operator checks value equality, checking whether two varriables have same value whereas \"is\" operator checks identity equality, checking whether two variables refer too the same memory location."
      ],
      "metadata": {
        "id": "YNfcRtIsZSgT"
      }
    },
    {
      "cell_type": "markdown",
      "source": [
        "8. What are logical operators in Python?\n",
        "Ans: Logical operators in python are used to perform Boolean Logic in decision making and expressions. There are three types of Logical Operators, these are: \"and\", \"or\" & \"not\"."
      ],
      "metadata": {
        "id": "iOPlr3p6Z93u"
      }
    },
    {
      "cell_type": "markdown",
      "source": [
        "9. What is type casting in Python?\n",
        "Ams: Type Casting is the process of converting one data type into another data type. We have two types of type casting, these are: Implicit Type Casting and Explicit Type Casting."
      ],
      "metadata": {
        "id": "swrgPCqZajeJ"
      }
    },
    {
      "cell_type": "markdown",
      "source": [
        "10. What is the difference between implicit and explicit type casting?\n",
        "Ans: Implicit Type Casting is done by python when there no data loss whereas Explicit Type Casting is done by the programmer using built-in functions."
      ],
      "metadata": {
        "id": "FHG-U8aOa9r9"
      }
    },
    {
      "cell_type": "markdown",
      "source": [
        "11. What is the purpose of conditional statements in Python?\n",
        "Ans: The conditional statements in python is used forcontrolling the flow of execution. It avoids unnecessary code execution. It is used to give True or false values."
      ],
      "metadata": {
        "id": "gCXjIe1LbaQJ"
      }
    },
    {
      "cell_type": "markdown",
      "source": [
        "12.  How does the elif statement work?\n",
        "Ans: The elif statement is used to check multiple conditions sequentially. It allows you to test several conditions after an initial if statement, and execute a block of code when the first True condition is found."
      ],
      "metadata": {
        "id": "QZnhpQQWb79D"
      }
    },
    {
      "cell_type": "markdown",
      "source": [
        "13. What is the difference between for and while loops?\n",
        "Ans: The for loop is typically used when the number of iterations is known or when iterating over a sequence whereas the while loop is used when the number of iterations is not known in advance and depends on a condition that is checked each time before the loop executes."
      ],
      "metadata": {
        "id": "B61eqIJ7cPpx"
      }
    },
    {
      "cell_type": "markdown",
      "source": [
        "14.  Describe a scenario where a while loop is more suitable than a for loop?\n",
        "Ans: In this scenario, a while loop is more suitable because the number of iterations is not known in advance, and the loop should continue until a specific condition is met.\n",
        "Problem:\n",
        "You want to prompt the user to enter a valid age until they provide a valid response. The loop should keep running until the user provides input that meets the condition."
      ],
      "metadata": {
        "id": "TPaDVR8Dc17L"
      }
    },
    {
      "cell_type": "markdown",
      "source": [
        "## **Practical Questions**"
      ],
      "metadata": {
        "id": "g3cFiE1wdlM4"
      }
    },
    {
      "cell_type": "code",
      "source": [
        "# 1. Write a Python program to print \"Hello, World!\"\n",
        "print(\"Hello, World!\")"
      ],
      "metadata": {
        "colab": {
          "base_uri": "https://localhost:8080/"
        },
        "id": "SIi5eQ5ndKYZ",
        "outputId": "034574c4-f6e9-46f0-9bd2-d78383ebdfc0"
      },
      "execution_count": 1,
      "outputs": [
        {
          "output_type": "stream",
          "name": "stdout",
          "text": [
            "Hello, World!\n"
          ]
        }
      ]
    },
    {
      "cell_type": "code",
      "source": [
        "# 2. Write a Python program that displays your name and age.\n",
        "n = input(\"Enter your name: \")\n",
        "a = int(input(\"Enter your age: \"))\n",
        "print(f\"Your name is {n}\")\n",
        "print(f\"Your age is {a}\")"
      ],
      "metadata": {
        "colab": {
          "base_uri": "https://localhost:8080/"
        },
        "id": "EyVdCyu8d1qR",
        "outputId": "1b844211-44d8-40c6-defa-394534591f30"
      },
      "execution_count": 2,
      "outputs": [
        {
          "output_type": "stream",
          "name": "stdout",
          "text": [
            "Enter your name: vaishnavi\n",
            "Enter your age: 20\n",
            "Your name is vaishnavi\n",
            "Your age is 20\n"
          ]
        }
      ]
    },
    {
      "cell_type": "code",
      "source": [
        "# 3. Write code to print all the pre-defined keywords in Python using the keyword library.\n",
        "import keyword\n",
        "print(keyword.kwlist)"
      ],
      "metadata": {
        "colab": {
          "base_uri": "https://localhost:8080/"
        },
        "id": "JClHBDHWeWyZ",
        "outputId": "27ca9247-5dfe-46c4-e329-76083498e8c1"
      },
      "execution_count": 3,
      "outputs": [
        {
          "output_type": "stream",
          "name": "stdout",
          "text": [
            "['False', 'None', 'True', 'and', 'as', 'assert', 'async', 'await', 'break', 'class', 'continue', 'def', 'del', 'elif', 'else', 'except', 'finally', 'for', 'from', 'global', 'if', 'import', 'in', 'is', 'lambda', 'nonlocal', 'not', 'or', 'pass', 'raise', 'return', 'try', 'while', 'with', 'yield']\n"
          ]
        }
      ]
    },
    {
      "cell_type": "code",
      "source": [
        "# 4. Write a program that checks if a given word is a Python keyword.\n",
        "import keyword\n",
        "w = input(\"Enter a word: \")\n",
        "if keyword.iskeyword(w):\n",
        "    print(f\"'{w}' is a Python keyword.\")\n",
        "else:\n",
        "    print(f\"'{w}' is not a Python keyword.\")\n"
      ],
      "metadata": {
        "colab": {
          "base_uri": "https://localhost:8080/"
        },
        "id": "X1WcgPd3elQO",
        "outputId": "c71c78ae-c50b-4b07-94e2-82ee50ae73b3"
      },
      "execution_count": 4,
      "outputs": [
        {
          "output_type": "stream",
          "name": "stdout",
          "text": [
            "Enter a word: hi\n",
            "'hi' is not a Python keyword.\n"
          ]
        }
      ]
    },
    {
      "cell_type": "code",
      "source": [
        "45# 5. Create a list and tuple in Python, and demonstrate how attempting to change an element works differently for each.\n",
        "my_list = []\n",
        "n = int(input(\"Enter the number of elements:\"))\n",
        "for i in range(n):\n",
        "    element = input(f\"Enter element {i+1}: \")\n",
        "    my_list.append(element)\n",
        "print(\"The list created is:\", my_list)\n",
        "my_list[1] = 100\n",
        "print(\"After changing list:\", my_list)\n",
        "\n",
        "temp_list = []\n",
        "n = int(input(\"Enter the number of elements: \"))\n",
        "for i in range(n):\n",
        "    element = input(f\"Enter element {i+1}: \")\n",
        "    temp_list.append(element)\n",
        "my_tuple = tuple(temp_list)\n",
        "print(\"The created tuple is:\", my_tuple)\n",
        "try:\n",
        "    my_tuple[1] = 100\n",
        "except TypeError as e:\n",
        "    print(f\"Error: {e}\")\n"
      ],
      "metadata": {
        "colab": {
          "base_uri": "https://localhost:8080/"
        },
        "id": "lHgVqq1Ie_6d",
        "outputId": "0e5c7783-9abf-40e1-e379-86448c8cec64"
      },
      "execution_count": 5,
      "outputs": [
        {
          "output_type": "stream",
          "name": "stdout",
          "text": [
            "Enter the number of elements:5\n",
            "Enter element 1: 2\n",
            "Enter element 2: 5\n",
            "Enter element 3: 8\n",
            "Enter element 4: 4\n",
            "Enter element 5: 5\n",
            "The list created is: ['2', '5', '8', '4', '5']\n",
            "After changing list: ['2', 100, '8', '4', '5']\n",
            "Enter the number of elements: 3\n",
            "Enter element 1: 2\n",
            "Enter element 2: \n",
            "Enter element 3: \n",
            "The created tuple is: ('2', '', '')\n",
            "Error: 'tuple' object does not support item assignment\n"
          ]
        }
      ]
    },
    {
      "cell_type": "code",
      "source": [
        "# 6. Write a function to demonstrate the behavior of mutable and immutable arguments.\n",
        "def modify_values(immutable_arg, mutable_arg, value, new_element):\n",
        "    immutable_arg += value\n",
        "    print(f\"Inside function (immutable): {immutable_arg}\")\n",
        "    mutable_arg.append(new_element)\n",
        "    print(f\"Inside function (mutable): {mutable_arg}\")\n",
        "num = int(input(\"Enter an integer: \"))\n",
        "numbers = list(map(int, input(\"Enter a list of numbers separated by spaces: \").split()))\n",
        "value = int(input(\"Enter a value to add to the integer: \"))\n",
        "new_element = int(input(\"Enter a new element to append to the list: \"))\n",
        "print(f\"Before function call (immutable): {num}\")\n",
        "print(f\"Before function call (mutable): {numbers}\")\n",
        "modify_values(num, numbers, value, new_element)\n",
        "print(f\"After function call (immutable): {num}\")\n",
        "print(f\"After function call (mutable): {numbers}\")"
      ],
      "metadata": {
        "colab": {
          "base_uri": "https://localhost:8080/"
        },
        "id": "gbwyS1K6oczd",
        "outputId": "261c4c1d-f9e2-49ff-b29e-6347e6bdca5c"
      },
      "execution_count": null,
      "outputs": [
        {
          "output_type": "stream",
          "name": "stdout",
          "text": [
            "Enter an integer: 5\n",
            "Enter a list of numbers separated by spaces: 10 20 30\n",
            "Enter a value to add to the integer: 10\n",
            "Enter a new element to append to the list: 100\n",
            "Before function call (immutable): 5\n",
            "Before function call (mutable): [10, 20, 30]\n",
            "Inside function (immutable): 15\n",
            "Inside function (mutable): [10, 20, 30, 100]\n",
            "After function call (immutable): 5\n",
            "After function call (mutable): [10, 20, 30, 100]\n"
          ]
        }
      ]
    },
    {
      "cell_type": "code",
      "source": [
        "# 7. Write a program that performs basic arithmetic operations on two user-input numbers.\n",
        "a = int(input(\"Enter First number: \"))\n",
        "b = int(input(\"Enter Second number: \"))\n",
        "print(f\"Addition of {a} and {b} is {a+b}\")\n",
        "print(f\"Subtraction of {a} and {b} is {a-b}\")\n",
        "print(f\"Multiplication of {a} and {b} is {a*b}\")\n",
        "print(f\"Division of {a} and {b} is {a/b}\")\n",
        "print(f\"Floor Division of {a} and {b} is {a//b}\")\n",
        "print(f\"Modulus of {a} and {b} is {a%b}\")\n",
        "print(f\"Exponent of {a} and {b} is {a**b}\")"
      ],
      "metadata": {
        "colab": {
          "base_uri": "https://localhost:8080/"
        },
        "id": "AabloTz1peqV",
        "outputId": "515cc117-45e3-434c-aa39-7d8af099cf3d"
      },
      "execution_count": null,
      "outputs": [
        {
          "output_type": "stream",
          "name": "stdout",
          "text": [
            "Enter First number: 10\n",
            "Enter Second number: 20\n",
            "Addition of 10 and 20 is 30\n",
            "Subtraction of 10 and 20 is -10\n",
            "Multiplication of 10 and 20 is 200\n",
            "Division of 10 and 20 is 0.5\n",
            "Floor Division of 10 and 20 is 0\n",
            "Modulus of 10 and 20 is 10\n",
            "Exponent of 10 and 20 is 100000000000000000000\n"
          ]
        }
      ]
    },
    {
      "cell_type": "code",
      "source": [
        "# 8. Write a program to demonstrate the use of logical operators.\n",
        "a = bool(int(input(\"Enter first boolean value (0 or 1): \")))\n",
        "b = bool(int(input(\"Enter second boolean value (0 or 1): \")))\n",
        "print(f\"a: {a}, b: {b}\")\n",
        "print(f\"a and b: {a and b}\")\n",
        "print(f\"a or b: {a or b}\")\n",
        "print(f\"not a: {not a}\")\n",
        "print(f\"not a: {not b}\")"
      ],
      "metadata": {
        "colab": {
          "base_uri": "https://localhost:8080/"
        },
        "id": "dv143PDcp2c3",
        "outputId": "6fc4a66f-0ff7-4352-ea32-14539833d012"
      },
      "execution_count": null,
      "outputs": [
        {
          "output_type": "stream",
          "name": "stdout",
          "text": [
            "Enter first boolean value (0 or 1): 0\n",
            "Enter second boolean value (0 or 1): 1\n",
            "a: False, b: True\n",
            "a and b: False\n",
            "a or b: True\n",
            "not a: True\n",
            "not a: False\n"
          ]
        }
      ]
    },
    {
      "cell_type": "code",
      "source": [
        "# 9. Write a Python program to convert user input from string to integer, float, and boolean types.\n",
        "user_input = input(\"Enter a value: \")\n",
        "\n",
        "try:\n",
        "    integer_value = int(user_input)\n",
        "    print(f\"Integer: {integer_value}\")\n",
        "except ValueError:\n",
        "    print(\"Could not convert to integer.\")\n",
        "\n",
        "try:\n",
        "    float_value = float(user_input)\n",
        "    print(f\"Float: {float_value}\")\n",
        "except ValueError:\n",
        "    print(\"Could not convert to float.\")\n",
        "\n",
        "if user_input.lower() in [\"true\", \"1\"]:\n",
        "    boolean_value = True\n",
        "    print(f\"Boolean: {boolean_value}\")\n",
        "elif user_input.lower() in [\"false\", \"0\"]:\n",
        "    boolean_value = False\n",
        "    print(f\"Boolean: {boolean_value}\")\n",
        "else:\n",
        "    print(\"Could not convert to boolean.\")"
      ],
      "metadata": {
        "colab": {
          "base_uri": "https://localhost:8080/"
        },
        "id": "97tei4vnqn9-",
        "outputId": "b3d9c3b9-b790-4a15-bd90-1d92d41afdce"
      },
      "execution_count": null,
      "outputs": [
        {
          "output_type": "stream",
          "name": "stdout",
          "text": [
            "Enter a value: 1\n",
            "Integer: 1\n",
            "Float: 1.0\n",
            "Boolean: True\n"
          ]
        }
      ]
    },
    {
      "cell_type": "code",
      "source": [
        "# 10. Write code to demonstrate type casting with list elements.\n",
        "my_list = []\n",
        "n = int(input(\"Enter the number of elements:\"))\n",
        "for i in range(n):\n",
        "    element = input(f\"Enter element {i+1}: \")\n",
        "    my_list.append(element)\n",
        "\n",
        "try:\n",
        "    integer_element = int(my_list[0])\n",
        "    print(f\"Integer element: {integer_element}\")\n",
        "except ValueError:\n",
        "    print(\"Could not convert element to integer.\")\n",
        "\n",
        "try:\n",
        "    float_element = float(my_list[1])\n",
        "    print(f\"Float element: {float_element}\")\n",
        "except ValueError:\n",
        "    print(\"Could not convert element to float.\")\n",
        "\n",
        "if my_list[2].lower() == 'true':\n",
        "    boolean_element = True\n",
        "    print(f\"Boolean element: {boolean_element}\")\n",
        "elif my_list[2].lower() == 'false':\n",
        "    boolean_element = False\n",
        "    print(f\"Boolean element: {boolean_element}\")\n",
        "else:\n",
        "    print(\"Could not convert element to boolean.\")\n",
        "\n",
        "if my_list[3].lower() == 'true':\n",
        "    boolean_element = True\n",
        "    print(f\"Boolean element: {boolean_element}\")\n",
        "elif my_list[3].lower() == 'false':\n",
        "    boolean_element = False\n",
        "    print(f\"Boolean element: {boolean_element}\")\n",
        "else:\n",
        "    print(\"Could not convert element to boolean.\")"
      ],
      "metadata": {
        "colab": {
          "base_uri": "https://localhost:8080/"
        },
        "id": "Dfgo57sIrl4V",
        "outputId": "9294fdbc-fcad-43cf-bfd0-2d237c453916"
      },
      "execution_count": null,
      "outputs": [
        {
          "output_type": "stream",
          "name": "stdout",
          "text": [
            "Enter the number of elements:4\n",
            "Enter element 1: 123\n",
            "Enter element 2: 45.67\n",
            "Enter element 3: True\n",
            "Enter element 4: False\n",
            "Integer element: 123\n",
            "Float element: 45.67\n",
            "Boolean element: True\n",
            "Boolean element: False\n"
          ]
        }
      ]
    },
    {
      "cell_type": "code",
      "source": [
        "# 11.Write a program that checks if a number is positive, negative, or zero.\n",
        "number = int(input(\"Enter a number: \"))\n",
        "\n",
        "if number > 0:\n",
        "    print(\"The number is positive.\")\n",
        "elif number < 0:\n",
        "    print(\"The number is negative.\")\n",
        "else:\n",
        "    print(\"The number is zero.\")"
      ],
      "metadata": {
        "colab": {
          "base_uri": "https://localhost:8080/"
        },
        "id": "ojO5hyXLsSj-",
        "outputId": "23e30617-6e28-4c7b-d623-990ab0cbb922"
      },
      "execution_count": null,
      "outputs": [
        {
          "output_type": "stream",
          "name": "stdout",
          "text": [
            "Enter a number: 5\n",
            "The number is positive.\n"
          ]
        }
      ]
    },
    {
      "cell_type": "code",
      "source": [
        "# 12. Write a for loop to print numbers from 1 to 10.\n",
        "for i in range(1, 11):\n",
        "    print(i)"
      ],
      "metadata": {
        "colab": {
          "base_uri": "https://localhost:8080/"
        },
        "id": "GjEq8U_tsyQi",
        "outputId": "ba71907a-27e8-419e-8b0b-424b4a748d5a"
      },
      "execution_count": null,
      "outputs": [
        {
          "output_type": "stream",
          "name": "stdout",
          "text": [
            "1\n",
            "2\n",
            "3\n",
            "4\n",
            "5\n",
            "6\n",
            "7\n",
            "8\n",
            "9\n",
            "10\n"
          ]
        }
      ]
    },
    {
      "cell_type": "code",
      "source": [
        "# 13. Write a Python program to find the sum of all even numbers between 1 and 50.\n",
        "sum_even = 0\n",
        "for i in range(2, 51, 2):\n",
        "    sum_even += i\n",
        "print(\"The sum of even numbers between 1 and 50 is:\", sum_even)"
      ],
      "metadata": {
        "colab": {
          "base_uri": "https://localhost:8080/"
        },
        "id": "4IZYDyoLs89Q",
        "outputId": "8d1ed96f-e165-414d-e3a1-385e3fb5af53"
      },
      "execution_count": null,
      "outputs": [
        {
          "output_type": "stream",
          "name": "stdout",
          "text": [
            "The sum of even numbers between 1 and 50 is: 650\n"
          ]
        }
      ]
    },
    {
      "cell_type": "code",
      "source": [
        "# 14. Write a program to reverse a string using a while loop.\n",
        "string = input(\"Enter a string: \")\n",
        "reversed_string = \"\"\n",
        "length = len(string)\n",
        "index = length - 1\n",
        "\n",
        "while index >= 0:\n",
        "    reversed_string += string[index]\n",
        "    index -= 1\n",
        "print(f\"The reversed string is: {reversed_string}\")"
      ],
      "metadata": {
        "colab": {
          "base_uri": "https://localhost:8080/"
        },
        "id": "B8AEgc9MtF70",
        "outputId": "e7ab5f26-40eb-46e4-8b78-e51a38dc74c1"
      },
      "execution_count": null,
      "outputs": [
        {
          "output_type": "stream",
          "name": "stdout",
          "text": [
            "Enter a string: Hello\n",
            "The reversed string is: olleH\n"
          ]
        }
      ]
    },
    {
      "cell_type": "code",
      "source": [
        "# 15. Write a Python program to calculate the factorial of a number provided by the user using a while loop.\n",
        "number = int(input(\"Enter a number: \"))\n",
        "factorial = 1\n",
        "current = 1\n",
        "\n",
        "while current <= number:\n",
        "    factorial *= current\n",
        "    current += 1\n",
        "print(f\"The factorial of {number} is: {factorial}\")"
      ],
      "metadata": {
        "colab": {
          "base_uri": "https://localhost:8080/"
        },
        "id": "uxECG1IutU27",
        "outputId": "ef24ac35-4791-4d08-861a-f929ab5cd659"
      },
      "execution_count": null,
      "outputs": [
        {
          "output_type": "stream",
          "name": "stdout",
          "text": [
            "Enter a number: 10\n",
            "The factorial of 10 is: 3628800\n"
          ]
        }
      ]
    }
  ]
}